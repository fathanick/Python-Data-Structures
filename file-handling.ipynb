{
 "cells": [
  {
   "cell_type": "code",
   "execution_count": 9,
   "metadata": {},
   "outputs": [
    {
     "output_type": "stream",
     "name": "stdout",
     "text": "WRITING PROGRAMS OR PROGRAMMING IS A VERY CREATIVE\nAND REWARDING ACTIVITY  YOU CAN WRITE PROGRAMS FOR\nMANY REASONS RANGING FROM MAKING YOUR LIVING TO SOLVING\nA DIFFICULT DATA ANALYSIS PROBLEM TO HAVING FUN TO HELPING\nSOMEONE ELSE SOLVE A PROBLEM  THIS BOOK ASSUMES THAT\n{\\EM EVERYONE} NEEDS TO KNOW HOW TO PROGRAM AND THAT ONCE\nYOU KNOW HOW TO PROGRAM, YOU WILL FIGURE OUT WHAT YOU WANT\nTO DO WITH YOUR NEWFOUND SKILLS\n\nWE ARE SURROUNDED IN OUR DAILY LIVES WITH COMPUTERS RANGING\nFROM LAPTOPS TO CELL PHONES  WE CAN THINK OF THESE COMPUTERS\nAS OUR PERSONAL ASSISTANTS WHO CAN TAKE CARE OF MANY THINGS\nON OUR BEHALF  THE HARDWARE IN OUR CURRENT-DAY COMPUTERS\nIS ESSENTIALLY BUILT TO CONTINUOUSLY ASK US THE QUESTION\nWHAT WOULD YOU LIKE ME TO DO NEXT\n\nOUR COMPUTERS ARE FAST AND HAVE VASTS AMOUNTS OF MEMORY AND\nCOULD BE VERY HELPFUL TO US IF WE ONLY KNEW THE LANGUAGE TO\nSPEAK TO EXPLAIN TO THE COMPUTER WHAT WE WOULD LIKE IT TO\nDO NEXT IF WE KNEW THIS LANGUAGE WE COULD TELL THE\nCOMPUTER TO DO TASKS ON OUR BEHALF THAT WERE REPTITIVE\nINTERESTINGLY, THE KINDS OF THINGS COMPUTERS CAN DO BEST\nARE OFTEN THE KINDS OF THINGS THAT WE HUMANS FIND BORING\nAND MIND-NUMBING\n"
    }
   ],
   "source": [
    "#Assignment 7.1\n",
    "fname = input(\"Enter file name: \")\n",
    "fh = open(fname,\"r\")\n",
    "\n",
    "for line in fh:\n",
    "    line = line.upper().rstrip()\n",
    "    print(line)"
   ]
  },
  {
   "cell_type": "code",
   "execution_count": 30,
   "metadata": {},
   "outputs": [
    {
     "output_type": "stream",
     "name": "stdout",
     "text": "Average spam confidence:  0.750718518519\n"
    }
   ],
   "source": [
    "#Assignment 7.2\n",
    "fname = input(\"Enter file name: \")\n",
    "fh = open(fname)\n",
    "count = 0\n",
    "conf = 0\n",
    "for line in fh:\n",
    "    if not line.startswith(\"X-DSPAM-Confidence:\") : continue\n",
    "    #print(line)\n",
    "    count = count + 1\n",
    "    conf = conf + float(line[-7:])\n",
    "    avg = round(conf/count,12)\n",
    "print('Average spam confidence:',avg)\n"
   ]
  },
  {
   "cell_type": "code",
   "execution_count": null,
   "metadata": {},
   "outputs": [],
   "source": []
  }
 ],
 "metadata": {
  "language_info": {
   "codemirror_mode": {
    "name": "ipython",
    "version": 3
   },
   "file_extension": ".py",
   "mimetype": "text/x-python",
   "name": "python",
   "nbconvert_exporter": "python",
   "pygments_lexer": "ipython3",
   "version": "3.7.4-final"
  },
  "orig_nbformat": 2,
  "kernelspec": {
   "name": "python37464bitanaconda3virtualenvfc801a8c42d14f0d884d7f22cd4e486a",
   "display_name": "Python 3.7.4 64-bit ('anaconda3': virtualenv)"
  }
 },
 "nbformat": 4,
 "nbformat_minor": 2
}