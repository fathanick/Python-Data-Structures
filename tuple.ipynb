{
 "cells": [
  {
   "cell_type": "code",
   "execution_count": 1,
   "metadata": {},
   "outputs": [
    {
     "output_type": "stream",
     "name": "stdout",
     "text": "04 3\n06 1\n07 1\n09 2\n10 3\n11 6\n14 1\n15 2\n16 4\n17 2\n18 1\n19 1\n"
    }
   ],
   "source": [
    "fh = open(\"mbox-short.txt\",\"r\")\n",
    "\n",
    "hours = dict()\n",
    "\n",
    "for line in fh:\n",
    "    line = line.rstrip()\n",
    "    if not line.startswith('From ') : continue \n",
    "    words = line.split()\n",
    "    time = words[5]\n",
    "    hour = time[:2]\n",
    "    hours[hour] = hours.get(hour, 0) + 1\n",
    "\n",
    "hrs_sort = sorted([ (k,v) for k,v in hours.items()])\n",
    "\n",
    "for k,v in hrs_sort:\n",
    "    print(k, v)\n"
   ]
  },
  {
   "cell_type": "code",
   "execution_count": 3,
   "metadata": {},
   "outputs": [
    {
     "output_type": "execute_result",
     "data": {
      "text/plain": "{'09': 2,\n '18': 1,\n '16': 4,\n '15': 2,\n '14': 1,\n '11': 6,\n '10': 3,\n '07': 1,\n '06': 1,\n '04': 3,\n '19': 1,\n '17': 2}"
     },
     "metadata": {},
     "execution_count": 3
    }
   ],
   "source": [
    "hours"
   ]
  },
  {
   "cell_type": "code",
   "execution_count": null,
   "metadata": {},
   "outputs": [],
   "source": []
  }
 ],
 "metadata": {
  "language_info": {
   "codemirror_mode": {
    "name": "ipython",
    "version": 3
   },
   "file_extension": ".py",
   "mimetype": "text/x-python",
   "name": "python",
   "nbconvert_exporter": "python",
   "pygments_lexer": "ipython3",
   "version": "3.7.4-final"
  },
  "orig_nbformat": 2,
  "kernelspec": {
   "name": "python37464bitanaconda3virtualenvfc801a8c42d14f0d884d7f22cd4e486a",
   "display_name": "Python 3.7.4 64-bit ('anaconda3': virtualenv)"
  }
 },
 "nbformat": 4,
 "nbformat_minor": 2
}