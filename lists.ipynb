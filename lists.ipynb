{
 "cells": [
  {
   "cell_type": "code",
   "execution_count": 2,
   "metadata": {},
   "outputs": [
    {
     "output_type": "stream",
     "name": "stdout",
     "text": "But soft what light through yonder window breaks\nIt is the east and Juliet is the sun\nArise fair sun and kill the envious moon\nWho is already sick and pale with grief\n"
    }
   ],
   "source": [
    "fname = input(\"Enter file name: \")\n",
    "fh = open(fname)\n",
    "lst = list()\n",
    "for line in fh:\n",
    "    print(line.rstrip())"
   ]
  },
  {
   "cell_type": "code",
   "execution_count": 12,
   "metadata": {},
   "outputs": [
    {
     "output_type": "stream",
     "name": "stdout",
     "text": "['Arise', 'But', 'It', 'Juliet', 'Who', 'already', 'and', 'breaks', 'east', 'envious', 'fair', 'grief', 'is', 'kill', 'light', 'moon', 'pale', 'sick', 'soft', 'sun', 'the', 'through', 'what', 'window', 'with', 'yonder']\n"
    }
   ],
   "source": [
    "fname = input(\"Enter file name: \")\n",
    "fh = open(fname)\n",
    "lst = list()\n",
    "for line in fh:\n",
    "    words = line.split()\n",
    "    for w in words:\n",
    "        if w not in lst: \n",
    "            lst.append(w)\n",
    "print(sorted(lst))"
   ]
  },
  {
   "cell_type": "code",
   "execution_count": 13,
   "metadata": {},
   "outputs": [
    {
     "output_type": "stream",
     "name": "stdout",
     "text": "There were 0 lines in the file with From as the first word\n"
    }
   ],
   "source": [
    "fname = input(\"Enter file name: \")\n",
    "if len(fname) < 1 : fname = \"mbox-short.txt\"\n",
    "\n",
    "fh = open(fname)\n",
    "count = 0\n",
    "\n",
    "print(\"There were\", count, \"lines in the file with From as the first word\")"
   ]
  },
  {
   "cell_type": "code",
   "execution_count": 15,
   "metadata": {},
   "outputs": [
    {
     "output_type": "stream",
     "name": "stdout",
     "text": "stephen.marquard@uct.ac.za\nlouis@media.berkeley.edu\nzqian@umich.edu\nrjlowe@iupui.edu\nzqian@umich.edu\nrjlowe@iupui.edu\ncwen@iupui.edu\ncwen@iupui.edu\ngsilver@umich.edu\ngsilver@umich.edu\nzqian@umich.edu\ngsilver@umich.edu\nwagnermr@iupui.edu\nzqian@umich.edu\nantranig@caret.cam.ac.uk\ngopal.ramasammycook@gmail.com\ndavid.horwitz@uct.ac.za\ndavid.horwitz@uct.ac.za\ndavid.horwitz@uct.ac.za\ndavid.horwitz@uct.ac.za\nstephen.marquard@uct.ac.za\nlouis@media.berkeley.edu\nlouis@media.berkeley.edu\nray@media.berkeley.edu\ncwen@iupui.edu\ncwen@iupui.edu\ncwen@iupui.edu\nThere were 27 lines in the file with From as the first word\n"
    }
   ],
   "source": [
    "fname = input(\"Enter file name: \")\n",
    "if len(fname) < 1 : fname = \"mbox-short.txt\"\n",
    "\n",
    "fh = open(fname)\n",
    "count = 0\n",
    "\n",
    "for line in fh:\n",
    "    line = line.rstrip()\n",
    "    if not line.startswith('From ') : continue \n",
    "    words = line.split()\n",
    "    email = words[1]\n",
    "    count = count + 1\n",
    "    print(email)\n",
    "\n",
    "\n",
    "print(\"There were\", count, \"lines in the file with From as the first word\")"
   ]
  },
  {
   "cell_type": "code",
   "execution_count": null,
   "metadata": {},
   "outputs": [],
   "source": []
  }
 ],
 "metadata": {
  "language_info": {
   "codemirror_mode": {
    "name": "ipython",
    "version": 3
   },
   "file_extension": ".py",
   "mimetype": "text/x-python",
   "name": "python",
   "nbconvert_exporter": "python",
   "pygments_lexer": "ipython3",
   "version": "3.7.4-final"
  },
  "orig_nbformat": 2,
  "kernelspec": {
   "name": "python37464bitanaconda3virtualenvfc801a8c42d14f0d884d7f22cd4e486a",
   "display_name": "Python 3.7.4 64-bit ('anaconda3': virtualenv)"
  }
 },
 "nbformat": 4,
 "nbformat_minor": 2
}