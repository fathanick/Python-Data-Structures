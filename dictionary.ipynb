{
 "cells": [
  {
   "cell_type": "code",
   "execution_count": 1,
   "metadata": {},
   "outputs": [],
   "source": [
    "name = input(\"Enter file:\")\n",
    "if len(name) < 1 : name = \"mbox-short.txt\"\n",
    "handle = open(name)"
   ]
  },
  {
   "cell_type": "code",
   "execution_count": 10,
   "metadata": {},
   "outputs": [
    {
     "output_type": "stream",
     "name": "stdout",
     "text": "cwen@iupui.edu 5\n"
    }
   ],
   "source": [
    "fh = open(\"mbox-short.txt\",\"r\")\n",
    "\n",
    "sender = dict()\n",
    "\n",
    "for line in fh:\n",
    "    line = line.rstrip()\n",
    "    if not line.startswith('From ') : continue \n",
    "    words = line.split()\n",
    "    email = words[1]\n",
    "    sender[email] = sender.get(email, 0) + 1\n",
    "\n",
    "email_sender = None\n",
    "max_count = None\n",
    "\n",
    "for k,v in sender.items():\n",
    "    if max_count is None or v > max_count:\n",
    "        email_sender = k\n",
    "        max_count = v\n",
    "\n",
    "print(email_sender, max_count) "
   ]
  },
  {
   "cell_type": "code",
   "execution_count": null,
   "metadata": {},
   "outputs": [],
   "source": []
  }
 ],
 "metadata": {
  "language_info": {
   "codemirror_mode": {
    "name": "ipython",
    "version": 3
   },
   "file_extension": ".py",
   "mimetype": "text/x-python",
   "name": "python",
   "nbconvert_exporter": "python",
   "pygments_lexer": "ipython3",
   "version": "3.7.4-final"
  },
  "orig_nbformat": 2,
  "kernelspec": {
   "name": "python37464bitanaconda3virtualenvfc801a8c42d14f0d884d7f22cd4e486a",
   "display_name": "Python 3.7.4 64-bit ('anaconda3': virtualenv)"
  }
 },
 "nbformat": 4,
 "nbformat_minor": 2
}